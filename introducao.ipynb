{
 "cells": [
  {
   "cell_type": "code",
   "execution_count": null,
   "metadata": {},
   "outputs": [],
   "source": [
    "import chart_studio.plotly as py\n",
    "import plotly.graph_objs as go\n",
    "from plotly.tools import FigureFactory as FF\n",
    "\n",
    "import numpy as np\n",
    "import pandas as pd\n",
    "import scipy\n",
    "from scipy import stats\n",
    "from statistics import *\n",
    "\n",
    "import matplotlib.pyplot as plt"
   ]
  },
  {
   "cell_type": "markdown",
   "metadata": {},
   "source": [
    "## Importando dados"
   ]
  },
  {
   "cell_type": "code",
   "execution_count": null,
   "metadata": {},
   "outputs": [],
   "source": [
    "#Consumo de álcool nos países\n",
    "data = pd.read_csv('https://raw.githubusercontent.com/plotly/datasets/master/2010_alcohol_consumption_by_country.csv')\n",
    "df = data[0:10]\n",
    "\n",
    "df\n",
    "print( df['alcohol'])\n",
    "print( df['alcohol'].size)\n",
    "\n"
   ]
  },
  {
   "cell_type": "code",
   "execution_count": null,
   "metadata": {},
   "outputs": [],
   "source": [
    "data = pd.read_csv('https://raw.githubusercontent.com/advinstai/python-datascience/master/csv/College.csv')\n",
    "print(data)\n",
    "print(data.describe())\n",
    "print(data.info())"
   ]
  },
  {
   "cell_type": "code",
   "execution_count": null,
   "metadata": {},
   "outputs": [],
   "source": [
    "df['alcohol'].value_counts(bins=10)\n",
    "\n",
    "tot_classes=1+3.3*np.log( df['alcohol'].size)\n",
    "print(tot_classes)\n",
    "\n",
    "print(df['alcohol'].value_counts(bins=tot_classes))\n",
    "\n",
    "amplitude=((df['alcohol'].max()-df['alcohol'].min())/tot_classes)\n",
    "print(amplitude)"
   ]
  },
  {
   "cell_type": "markdown",
   "metadata": {},
   "source": [
    "## Amplitude\n",
    "A amplitude nada mais é do que a diferença entre o maior e o menor valor de um conjunto de dados. Para isso, pode-se usar as funções `max()` e `min()`, que retornam o valor máximo e mínimo de um conjunto de dados, e depois subtrairemos um do outro:"
   ]
  },
  {
   "cell_type": "code",
   "execution_count": null,
   "metadata": {},
   "outputs": [],
   "source": [
    "amplitude = data['alcohol'].max() - data['alcohol'].min()\n",
    "print('A amplitude do intervalo é: ', amplitude)"
   ]
  },
  {
   "cell_type": "markdown",
   "metadata": {},
   "source": [
    "## Histograma\n",
    "\n",
    "histograma, também conhecido como distribuição de frequências, é a representação gráfica em colunas ou em barras (retângulos) de um conjunto de dados previamente tabulado e dividido em classes uniformes ou não uniformes. A base de cada retângulo representa uma classe. A altura de cada retângulo representa a quantidade ou a frequência absoluta com que o valor da classe ocorre no conjunto de dados para classes uniformes ou a densidade de frequência para classes não uniformes. [\\[fonte\\]](https://books.google.com.br/books?id=-FlCFbIluaQC&printsec=frontcover&hl=pt-BR#v=onepage&q&f=false)"
   ]
  },
  {
   "cell_type": "code",
   "execution_count": null,
   "metadata": {},
   "outputs": [],
   "source": [
    "import plotly.express as px\n",
    "\n",
    "#passamos o dataframe e a coluna Alcohol como valores do eixo x\n",
    "fig = px.histogram(data, x=\"alcohol\") #, nbins=8)\n",
    "print(type(fig))\n",
    "fig.show()\n",
    "\n",
    "\n",
    "#passamos o dataframe e a coluna Alcohol como valores do eixo x\n",
    "fig = px.histogram(colldata, x=\"Apps\") #, nbins=8)\n",
    "print(type(fig))\n",
    "fig.show()\n",
    "\n",
    "fig = px.bar(colldata, x='Private')\n",
    "fig.show()"
   ]
  },
  {
   "cell_type": "markdown",
   "metadata": {},
   "source": [
    "# Média e variância\n",
    "\n",
    "Duas das operações estatísticas mais básicas são a média µ e o desvio padrão σ de uma matriz de dados unidimensional, ou seja, uma sequência de valores numéricos. A média de um conjunto de números $ x_1, ..., x_N $ é definida como:\n",
    "\n",
    "$ \\mu = (\\sum_{i=1}^N x_i) /n $\n",
    "\n",
    "Variância é uma métrica que descreve a dispersão dos dados ou a que distância os valores estão da média.\n",
    "\n",
    "$ s =  \\frac{1}{N-1} \\sum_{i=1}^N (x_i - \\mu)^2 $\n",
    "\n",
    "\n",
    "[\\[fonte\\]](https://plot.ly/python/v3/basic-statistics/)"
   ]
  },
  {
   "cell_type": "code",
   "execution_count": null,
   "metadata": {},
   "outputs": [],
   "source": [
    "print(data['alcohol'])\n",
    "media = np.mean(data['alcohol'])\n",
    "print(media)\n",
    "print(np.var(data['alcohol']))\n"
   ]
  },
  {
   "cell_type": "markdown",
   "metadata": {},
   "source": [
    "# Desvio Padrão\n",
    "\n",
    "O desvio padrão de um conjunto de dados é definido como a raiz da Variância:\n",
    "\n",
    "$ s = \\sqrt{ \\frac{1}{N-1} \\sum_{i=1}^N (x_i - \\mu)^2} $\n",
    "\n",
    "\n",
    "[\\[fonte\\]](https://plot.ly/python/v3/basic-statistics/)"
   ]
  },
  {
   "cell_type": "code",
   "execution_count": null,
   "metadata": {},
   "outputs": [],
   "source": [
    "print(df['alcohol'])\n",
    "media = np.mean(data['alcohol'])\n",
    "st_dev = np.std(data['alcohol'])\n",
    "\n",
    "print(\"A média é: \", media)\n",
    "print(\"O desvio_padrão é:  \", st_dev)\n"
   ]
  },
  {
   "cell_type": "markdown",
   "metadata": {},
   "source": [
    "## Mediana \n",
    "\n",
    "Mediana é o valor que separa a metade maior e a metade menor de uma amostra, uma população ou uma distribuição de probabilidade. Em termos mais simples, mediana pode ser o valor do meio de um conjunto de dados. No conjunto de dados {1, 3, 3, 6, 7, 8, 9}, por exemplo, a mediana é 6. Se houver um número par de observações, não há um único valor do meio. Então, a mediana é definida como a média dos dois valores do meio. No conjunto de dados {3, 5, 7, 9}, a mediana é:\n",
    "\n",
    "$ {\\displaystyle {\\frac {5+7}{2}}=6}$. \n",
    "\n",
    "[\\[fonte\\]](http://mathworld.wolfram.com/StatisticalMedian.html)"
   ]
  },
  {
   "cell_type": "code",
   "execution_count": null,
   "metadata": {},
   "outputs": [],
   "source": [
    "intervalo = [1, 3, 3, 6, 7, 8, 9,10,11,15,1200,1500]\n",
    "mediana_intervalo = np.median(intervalo)\n",
    "print(\"A mediana do intervalo é:\", mediana_intervalo)\n",
    "\n",
    "\n",
    "mediana_dataset = np.median(data['alcohol'])\n",
    "print(\"A mediana do dataset é: \", mediana_dataset)"
   ]
  },
  {
   "cell_type": "markdown",
   "metadata": {},
   "source": [
    "## Quantil\n",
    "\n",
    "O quantil pode ser entendido como uma generalização da mediana. O quantil é o valor abaixo do qual está um certo percentual dos dados. No caso da mediana, esse percentual é de 50%. Vejamos o código para o quantil, que pode ser calculado através da função quantile(). Esta função, por padrão, adota o percentual (representado através do parâmetro q) de 50%, ou seja, é uma mediana por padrão. Você pode configurar outros percentuais através deste mesmo parâmetro:"
   ]
  },
  {
   "cell_type": "code",
   "execution_count": null,
   "metadata": {},
   "outputs": [],
   "source": [
    "# Equivalente ao primeiro quartil\n",
    "# Ou seja: divede a distribuição em 25% abaixo e 75% acima\n",
    "primeiro_quartil = data['alcohol'].quantile(q = 0.25)\n",
    "\n",
    "# Equivalente ao quarto decil\n",
    "# Ou seja: divide a distribuição em 40% abaixo e 60% acima\n",
    "quarto_decil = data['alcohol'].quantile(q = 0.4)\n",
    "\n",
    "print(\"O valor referente ao  primeiro quartil é: \", primeiro_quartil)\n",
    "print(\"O valor referente ao  quarto decil é: \", quarto_decil)"
   ]
  },
  {
   "cell_type": "code",
   "execution_count": null,
   "metadata": {},
   "outputs": [],
   "source": [
    "# fake up some data\n",
    "spread = np.random.rand(50) * 100\n",
    "center = np.ones(10) * 50\n",
    "flier_high = np.ones(1) * 50 #np.random.rand(10) * 100 + 100\n",
    "#flier_low =  np.ones(1) * 50 #np.random.rand(5) * 100 + 100 #\n",
    "flier_low = np.random.rand(5) * -100 #np.ones(1) * 50 #np.random.rand(5) * -100\n",
    "data = np.concatenate((spread, center, flier_high, flier_low))\n",
    "\n",
    "fig1, ax1 = plt.subplots()\n",
    "ax1.set_title('Basic Plot')\n",
    "ax1.boxplot(data)"
   ]
  },
  {
   "cell_type": "code",
   "execution_count": null,
   "metadata": {},
   "outputs": [],
   "source": [
    "fig1, ax1 = plt.subplots()\n",
    "ax1.set_title('Basic Plot')\n",
    "ax1.boxplot(data['alcohol'])"
   ]
  },
  {
   "cell_type": "markdown",
   "metadata": {},
   "source": [
    "## Moda\n",
    "\n",
    "Em estatística, moda é uma das medidas de altura de um conjunto de dados, assim como a média e a mediana. Ela pode ser definida em moda amostral e populacional.\n",
    "\n",
    "Em relação à primeira delas, a moda amostral de um conjunto de dados trata do valor que ocorre com maior frequência ou o valor mais comum em um conjunto de dados. Moda é especialmente útil quando os valores ou as observações não são numéricos, casos em que a média e a mediana não podem ser definidas. Por exemplo, a moda da amostra \\[maçã, banana, laranja, laranja, laranja, pêssego\\] é laranja. Moda amostral não é necessariamente única como média ou mediana. Amostras que possuem uma moda são chamadas unimodais. Por exemplo, a amostra \\[1, 2, 3, 5, 5, 6, 7\\] tem moda 5. Amostras que possuem duas modas são chamadas bimodais. Por exemplo, a amostra \\[1, 2, 3, 5, 5, 6, 6\\] tem modas 5 e 6. Amostras que possuem várias modas são chamadas multimodais. Por exemplo, a amostra \\[1, 2, 3, 5, 5, 6, 6, 7, 7\\] tem modas 5, 6 e 7. Amostras que não possuem moda são chamadas amodais. Por exemplo, a amostra \\[1, 3, 2, 5, 7, 6\\] não tem moda.\n",
    "[\\[fonte\\]](http://www.pucrs.br/edipucrs/erematsul/minicursos/modaestatistica.pdf)\n"
   ]
  },
  {
   "cell_type": "code",
   "execution_count": null,
   "metadata": {},
   "outputs": [],
   "source": [
    "intervalo = [1, 2, 3, 5, 5, 5, 7,8,9,9,9,11,11,11]\n",
    "moda = stats.mode(intervalo)\n",
    "\n",
    "print('A moda do intervalo é: ', moda)"
   ]
  },
  {
   "cell_type": "markdown",
   "metadata": {},
   "source": [
    "## Gráfico de dispersão"
   ]
  },
  {
   "cell_type": "markdown",
   "metadata": {},
   "source": [
    "Os diagramas de dispersão ou gráficos de dispersão são representações de dados de duas (tipicamente) ou mais variáveis que são organizadas em um gráfico. O gráfico de dispersão utiliza coordenadas cartesianas para exibir valores de um conjunto de dados. Os dados são exibidos como uma coleção de pontos, cada um com o valor de uma variável determinando a posição no eixo horizontal e o valor da outra variável determinando a posição no eixo vertical (em caso de duas variáveis).[\\[fonte\\]](https://www.itl.nist.gov/div898/handbook/eda/section3/scatterp.htm)"
   ]
  },
  {
   "cell_type": "code",
   "execution_count": null,
   "metadata": {},
   "outputs": [],
   "source": [
    "#test = data.sample(frac=1)\n",
    "\n",
    "\n",
    "\n",
    "fig = px.scatter(data, x='alcohol')\n",
    "\n",
    "fig.show()\n"
   ]
  },
  {
   "cell_type": "markdown",
   "metadata": {},
   "source": [
    "## Distribuição normal"
   ]
  },
  {
   "cell_type": "markdown",
   "metadata": {},
   "source": [
    "A distribuição Normal é uma das mais importantes distribuições de probabilidade pois muitos fenômenos aleatórios comportam-se próximos a essa distribuição:\n",
    "* altura;\n",
    "* pressão sangüínea;\n",
    "* Peso\n",
    "\n",
    "Pode ser utilizada para calcular, de forma aproximada, probabilidades para outras distribuições, como por exemplo, para a distribuição binomial [\\[fonte\\]](https://www.ime.usp.br/~hbolfar/aula_2013/Aula6-A12012.pdf)"
   ]
  },
  {
   "cell_type": "code",
   "execution_count": null,
   "metadata": {},
   "outputs": [],
   "source": [
    "\n",
    "\n",
    "values= np.random.normal(90,2, 10000)\n",
    "plt.hist(values,75)\n",
    "plt.show()\n"
   ]
  },
  {
   "cell_type": "code",
   "execution_count": null,
   "metadata": {},
   "outputs": [],
   "source": [
    "climatedata = pd.read_csv('https://raw.githubusercontent.com/plotly/datasets/master/subplots.csv')\n",
    "#print(climatedata.describe())\n",
    "print(climatedata.info())"
   ]
  },
  {
   "cell_type": "code",
   "execution_count": null,
   "metadata": {},
   "outputs": [],
   "source": [
    "#fig = px.scatter(climatedata, x='mauna loa co2', y='south pole co2')\n",
    "fig = px.scatter(climatedata, x='south pole co2', y='+2σ temperature anomaly')\n",
    "\n",
    "fig.show()"
   ]
  },
  {
   "cell_type": "code",
   "execution_count": null,
   "metadata": {},
   "outputs": [],
   "source": [
    "colldata = pd.read_csv('https://raw.githubusercontent.com/advinstai/python-datascience/master/csv/College.csv')\n",
    "print(colldata.info())\n",
    "print(colldata.describe())\n",
    "print(colldata.corr())\n",
    "\n",
    "fig = px.scatter(colldata, x='Accept', y='Apps')\n",
    "fig.show()\n",
    "\n",
    "fig = px.scatter(colldata, x='Enroll', y='Expend')\n",
    "fig.show()\n",
    "\n",
    "fig = px.scatter(colldata, x='Room.Board', y='S.F.Ratio')\n",
    "fig.show()\n",
    "\n",
    "fig = px.scatter(colldata, x='Outstate', y='Enroll')\n",
    "fig.show()\n",
    "\n",
    "\n"
   ]
  },
  {
   "cell_type": "code",
   "execution_count": null,
   "metadata": {},
   "outputs": [],
   "source": [
    "\n",
    "\n",
    "print(climatedata.corr(method ='pearson'))\n",
    "print(climatedata.corr(method ='spearman'))\n",
    "print(climatedata.corr(method ='kendall'))\n"
   ]
  },
  {
   "cell_type": "code",
   "execution_count": null,
   "metadata": {},
   "outputs": [],
   "source": [
    "print(climatedata.describe())\n",
    "print(climatedata.corr())\n",
    "\n",
    "fig = px.scatter(data, x='heat content')\n",
    "fig.show()"
   ]
  },
  {
   "cell_type": "code",
   "execution_count": null,
   "metadata": {},
   "outputs": [],
   "source": [
    "# Titanic"
   ]
  },
  {
   "cell_type": "code",
   "execution_count": null,
   "metadata": {},
   "outputs": [],
   "source": [
    "import plotly.express as px\n",
    "titanicdata = pd.read_csv('https://raw.githubusercontent.com/advinstai/python-datascience/master/Exercicios/titanic/train.csv')\n",
    "print(titanicdata.describe())\n",
    "\n",
    "#histograma da idade\n",
    "fig = px.histogram(titanicdata, x=\"Sex\")\n",
    "\n",
    "fig.show()\n",
    "titanicdataSort=titanicdata.sort_values(by='Age')\n",
    "#titanicslice = titanicdata[0:10]\n",
    "fig = px.bar(titanicdataSort, x='Sex', y='Age')\n",
    "\n",
    "fig.show()"
   ]
  },
  {
   "cell_type": "code",
   "execution_count": null,
   "metadata": {},
   "outputs": [],
   "source": []
  },
  {
   "cell_type": "code",
   "execution_count": null,
   "metadata": {},
   "outputs": [],
   "source": [
    "import plotly.express as px\n",
    "\n",
    "titanicdata = pd.read_csv('https://raw.githubusercontent.com/advinstai/python-datascience/master/Exercicios/titanic/train.csv')\n",
    "print(titanicdata.describe())\n",
    "\n",
    "#histograma da idade\n",
    "fig = px.histogram(titanicdata, x=\"Sex\")\n",
    "\n",
    "fig.show()\n",
    "titanicdataSort=titanicdata.sort_values(by='Age')\n",
    "#titanicslice = titanicdata[0:10]\n",
    "fig = px.bar(titanicdataSort, x='Sex', y='Age')\n",
    "\n",
    "fig.show()"
   ]
  },
  {
   "cell_type": "code",
   "execution_count": null,
   "metadata": {},
   "outputs": [],
   "source": [
    "titanicdata = pd.read_csv('https://raw.githubusercontent.com/advinstai/python-datascience/master/Exercicios/titanic/train.csv')\n",
    "\n",
    "print(titanicdata.info())\n",
    "print(titanicdata.describe())\n",
    "print(titanicdata['Cabin'])\n",
    "\n",
    "titanicdata['deck'] = titanicdata.Cabin.str.replace('\\d+', '')\n",
    "print(titanicdata['deck'])\n"
   ]
  },
  {
   "cell_type": "code",
   "execution_count": null,
   "metadata": {},
   "outputs": [],
   "source": [
    "titanicdata = pd.read_csv('https://raw.githubusercontent.com/advinstai/python-datascience/master/Exercicios/titanic/train.csv')\n",
    "print(titanicdata['Sex'])\n",
    "print(titanicdata.info())\n",
    "print(titanicdata.describe())\n",
    "\n",
    "del titanicdata['Name']\n",
    "del titanicdata['Ticket']\n",
    "\n",
    "titanicdata['deck'] = titanicdata.Cabin.str.replace('\\d+', '')\n",
    "\n",
    "categorical_values = ['Sex', 'Embarked', 'Cabin', \"deck\"]\n",
    "#print(newtitanicdata['Sex'])\n",
    "#print(newtitanicdata['Embarked'])\n",
    "#print(newtitanicdata['Cabin'])\n",
    "\n",
    "for val in categorical_values:\n",
    "    titanicdata[val] = newtitanicdata[val].astype('category')\n",
    "print(titanicdata.info())\n",
    "\n",
    "print (\"cat.codes\")\n",
    "#print (titanicdata['Age'].cat.codes)\n",
    "print (titanicdata['Sex'].cat)\n",
    "print (titanicdata['Sex'].cat.codes)\n",
    "print (type(titanicdata['Sex'].cat.codes))\n",
    "#print(newtitanicdata.info())\n",
    "#print(newtitanicdata.describe())\n",
    "\n",
    "cat_columns = titanicdata.select_dtypes(['category']).columns\n",
    "print (\"cat_columns\")\n",
    "print(cat_columns)\n",
    "titanicdata[cat_columns] = titanicdata[cat_columns].apply(lambda x: x.cat.codes)\n",
    "\n",
    "for val in categorical_values:\n",
    "    titanicdata[val].fillna(titanicdata[val].median(), inplace=True)\n",
    "    \n",
    "# Continuous features\n",
    "for val in [\"Age\", \"Fare\", \"Pclass\", \"SibSp\"]:\n",
    "    titanicdata[val].fillna(titanicdata[val].mean(), inplace=True)\n",
    "\n",
    "\n",
    "\n",
    "print(titanicdata)\n",
    "\n",
    "\n",
    "#print(newtitanicdata)\n",
    "\n"
   ]
  },
  {
   "cell_type": "code",
   "execution_count": null,
   "metadata": {},
   "outputs": [],
   "source": [
    "#merge\n",
    "\n",
    "pop = [1234,5678,91011, 10000]\n",
    "\n",
    "da = titanicdata[['Embarked']].drop_duplicates().dropna()\n",
    "\n",
    "da['pop'] = pop\n",
    "\n",
    "da\n"
   ]
  },
  {
   "cell_type": "code",
   "execution_count": null,
   "metadata": {},
   "outputs": [],
   "source": [
    "dfmerge = da.merge(titanicdata, on='Embarked')\n",
    "\n",
    "dfmerge"
   ]
  },
  {
   "cell_type": "code",
   "execution_count": null,
   "metadata": {},
   "outputs": [],
   "source": [
    "def filter_pop(value):\n",
    "    \n",
    "    return dfmerge.loc[dfmerge['pop'] <= value]\n",
    "\n",
    "filter_pop(1300)"
   ]
  },
  {
   "cell_type": "code",
   "execution_count": null,
   "metadata": {},
   "outputs": [],
   "source": [
    "print(titanicdata['Sex'])\n",
    "m_surv = titanicdata['Survived'].mode()[0]\n",
    "m_pcla = titanicdata['Pclass'].mode()[0]\n",
    "m_sex = titanicdata['Sex'].mode()[0]\n",
    "m_age = titanicdata['Age'].mean()\n",
    "m_sib = titanicdata['SibSp'].mean()\n",
    "m_parc = titanicdata['Parch'].mean()\n",
    "m_fare = titanicdata['Fare'].mean()\n",
    "m_emba = titanicdata['Embarked'].mode()[0]\n",
    "m_deck = titanicdata['deck'].mode()[0]\n",
    "\n",
    "print( m_surv, m_pcla, m_sex, m_age, m_sib, m_parc, m_fare, m_emba, m_deck)"
   ]
  },
  {
   "cell_type": "code",
   "execution_count": null,
   "metadata": {},
   "outputs": [],
   "source": [
    "survivors = titanicdata[titanicdata['Survived'] == 1]\n",
    "nonsurv = titanicdata[titanicdata['Survived'] == 0]\n",
    "\n",
    "print(survivors)\n",
    "print(nonsurv)\n",
    "\n",
    "print (survivors['Pclass'].mode()[0])\n",
    "print(survivors['Sex'].mode()[0])\n",
    "print(survivors['Age'].mean())\n",
    "\n",
    "print (nonsurv['Pclass'].mode()[0])\n",
    "print(nonsurv['Sex'].mode()[0])\n",
    "print(nonsurv['Age'].mean())\n",
    "#, survivors['SibSp'].mean(),\n",
    "#survivors['Parch'].mean(), survivors['Fare'].mean(),\n",
    "#survivors['Embarked'].mode(), survivors['deck'].mode())\n",
    "\n",
    "#print ( nonsurv['Pclass'].mode(), nonsurv['Sex'].mode(),\n",
    "#nonsurv['Age'].mean(), nonsurv['SibSp'].mean(),\n",
    "#nonsurv['Parch'].mean(), nonsurv['Fare'].mean(),\n",
    "#nonsurv['Embarked'].mode(), nonsurv['deck'].mode())\n",
    "\n",
    "fig = px.histogram(survivors, x=\"Sex\")\n",
    "\n",
    "fig.show()\n",
    "\n",
    "fig = px.histogram(nonsurv, x=\"Sex\")\n",
    "\n",
    "fig.show()"
   ]
  },
  {
   "cell_type": "code",
   "execution_count": null,
   "metadata": {},
   "outputs": [],
   "source": [
    "import matplotlib.pyplot as plt; plt.rcdefaults()\n",
    "import numpy as np\n",
    "import matplotlib.pyplot as plt\n",
    "\n",
    "objects = ('Python', 'C++', 'Java', 'Perl', 'Scala', 'Lisp')\n",
    "print(type(objects))\n",
    "\n",
    "y_pos = np.arange(len(objects))\n",
    "performance = [10,8,6,4,2,1]\n",
    "\n",
    "plt.bar(y_pos, performance, align='center', alpha=0.5)\n",
    "plt.xticks(y_pos, objects)\n",
    "plt.ylabel('Usage')\n",
    "plt.title('Programming language usage')\n",
    "\n",
    "plt.show()"
   ]
  },
  {
   "cell_type": "code",
   "execution_count": null,
   "metadata": {},
   "outputs": [],
   "source": [
    "carseats = pd.read_csv('https://raw.githubusercontent.com/advinstai/python-datascience/master/csv/Carseats.csv')\n",
    "print(carseats.corr(method='pearson'))\n",
    "print(carseats.corr(method='kendall'))\n",
    "   \n",
    "#fig = px.scatter(carseats, x='Price', y='Sales')\n",
    "#fig.show()"
   ]
  }
 ],
 "metadata": {
  "kernelspec": {
   "display_name": "Python [conda env:.conda-trackml6]",
   "language": "python",
   "name": "conda-env-.conda-trackml6-py"
  },
  "language_info": {
   "codemirror_mode": {
    "name": "ipython",
    "version": 3
   },
   "file_extension": ".py",
   "mimetype": "text/x-python",
   "name": "python",
   "nbconvert_exporter": "python",
   "pygments_lexer": "ipython3",
   "version": "3.7.4"
  }
 },
 "nbformat": 4,
 "nbformat_minor": 2
}
